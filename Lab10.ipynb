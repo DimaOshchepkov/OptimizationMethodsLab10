{
 "cells": [
  {
   "cell_type": "code",
   "execution_count": 71,
   "metadata": {},
   "outputs": [],
   "source": [
    "from typing import Callable, Tuple\n",
    "import pandas as pd\n",
    "import numpy as np"
   ]
  },
  {
   "cell_type": "code",
   "execution_count": 72,
   "metadata": {},
   "outputs": [],
   "source": [
    "func: Callable[[float], float] = lambda x: 3 * x**2 + (12 / x**3) - 5\n",
    "#a = 0.5\n",
    "#b = 2.5\n",
    "#eps = 0.05\n",
    "a = float(input(\"Введите начало промежутка\"))\n",
    "b = float(input(\"Введите конец промежутка\"))\n",
    "eps = float(input(\"Введите погрешность\"))"
   ]
  },
  {
   "cell_type": "markdown",
   "metadata": {},
   "source": [
    "## Задание 1"
   ]
  },
  {
   "cell_type": "code",
   "execution_count": 73,
   "metadata": {},
   "outputs": [
    {
     "data": {
      "text/plain": [
       "5.239303775531791"
      ]
     },
     "execution_count": 73,
     "metadata": {},
     "output_type": "execute_result"
    }
   ],
   "source": [
    "def scan(func: Callable[[float], float], a: float, b: float, eps: float = 0.05) -> float:\n",
    "    steps = int((b - a) / eps)\n",
    "    x_values = np.linspace(a, b, steps) \n",
    "    values = func(x_values)\n",
    "\n",
    "    return np.min(values) \n",
    "\n",
    "scan(func, a, b, eps)"
   ]
  },
  {
   "cell_type": "code",
   "execution_count": 74,
   "metadata": {},
   "outputs": [
    {
     "data": {
      "text/plain": [
       "(5.239303775531791, 40)"
      ]
     },
     "execution_count": 74,
     "metadata": {},
     "output_type": "execute_result"
    }
   ],
   "source": [
    "def scan(func: Callable[[float], float], a: float, b: float, eps: float = 0.05) -> Tuple[float, float]:\n",
    "    steps = int((b - a) / eps)\n",
    "    x_values = np.linspace(a, b, steps) \n",
    "    values = func(x_values)\n",
    "\n",
    "    return np.min(values), len(x_values)\n",
    "\n",
    "scan(func, a, b, eps)"
   ]
  },
  {
   "cell_type": "code",
   "execution_count": null,
   "metadata": {},
   "outputs": [],
   "source": [
    "count_segments = float(input(\"Введите кол-во отрезков\"))\n",
    "#count_segments = 4"
   ]
  },
  {
   "cell_type": "code",
   "execution_count": 75,
   "metadata": {},
   "outputs": [
    {
     "data": {
      "text/plain": [
       "5.239613702947885"
      ]
     },
     "execution_count": 75,
     "metadata": {},
     "output_type": "execute_result"
    }
   ],
   "source": [
    "def scan_variable_step(func: Callable[[float], float], a: float, b: float, eps: float = 0.05,\n",
    "                       count_segment: int = 4) -> float:\n",
    "    \n",
    "    while((b-a)/2 > eps):\n",
    "        intervals = np.linspace(a, b, count_segment+1)  # Генерация n+1 точек на отрезке\n",
    "        midpoints = (intervals[:-1] + intervals[1:]) / 2  # Вычисление середины каждого интервала\n",
    "        values = func(midpoints)\n",
    "        min_index = np.argmin(values)\n",
    "        a, b = intervals[min_index], intervals[min_index + 1]\n",
    "        \n",
    "    return func((b + a)/2)\n",
    "\n",
    "scan_variable_step(func, a, b, eps, count_segments)"
   ]
  },
  {
   "cell_type": "code",
   "execution_count": 76,
   "metadata": {},
   "outputs": [
    {
     "name": "stdout",
     "output_type": "stream",
     "text": [
      "5.239613702947885 12\n"
     ]
    }
   ],
   "source": [
    "def scan_variable_step(func: Callable[[float], float], a: float, b: float, eps: float = 0.05,\n",
    "                       count_segment: int = 4) -> Tuple[float, float]:\n",
    "    \n",
    "    count = 0\n",
    "    while((b-a)/2 > eps):\n",
    "        intervals = np.linspace(a, b, count_segment+1)  # Генерация n+1 точек на отрезке\n",
    "        midpoints = (intervals[:-1] + intervals[1:]) / 2  # Вычисление середины каждого интервала\n",
    "        values = func(midpoints)\n",
    "        count += len(midpoints)\n",
    "        min_index = np.argmin(values)\n",
    "        a, b = intervals[min_index], intervals[min_index + 1]\n",
    "        \n",
    "    return func((b + a)/2), count\n",
    "\n",
    "value, count = scan_variable_step(func, a, b, eps, count_segment=4)\n",
    "print(value, count)"
   ]
  },
  {
   "cell_type": "markdown",
   "metadata": {},
   "source": [
    "## Задание 2"
   ]
  },
  {
   "cell_type": "code",
   "execution_count": 77,
   "metadata": {},
   "outputs": [
    {
     "data": {
      "text/plain": [
       "5.247744759516461"
      ]
     },
     "execution_count": 77,
     "metadata": {},
     "output_type": "execute_result"
    }
   ],
   "source": [
    "def half_division(func: Callable[[float], float], a: float, b: float, eps: float = 0.05) -> float:\n",
    "    while (b - a) / 2 > eps:\n",
    "        x = (b + a) / 2  # Вычисление середины интервала\n",
    "        value_func_left, value_func_right = func(x - eps/2), func(x+eps/2)\n",
    "        if value_func_left < value_func_right:\n",
    "            b = x\n",
    "        else:\n",
    "            a = x\n",
    "            \n",
    "    return func((b + a) / 2)\n",
    "\n",
    "half_division(func, a, b, eps)\n",
    "    "
   ]
  },
  {
   "cell_type": "code",
   "execution_count": 78,
   "metadata": {},
   "outputs": [
    {
     "name": "stdout",
     "output_type": "stream",
     "text": [
      "       a       b   c-E/2       c   c+E/2  func(c-E/2)  func(c+E/2)  count  \\\n",
      "0  0.500  1.5000  1.4750  1.5000  1.5250     5.266303     5.360418      2   \n",
      "1  1.000  1.5000  0.9750  1.0000  1.0250    10.798823     9.295068      4   \n",
      "2  1.250  1.5000  1.2250  1.2500  1.2750     6.029767     5.666503      6   \n",
      "3  1.375  1.5000  1.3500  1.3750  1.4000     5.344805     5.253178      8   \n",
      "4  1.375  1.4375  1.4125  1.4375  1.4625     5.243569     5.252851     10   \n",
      "\n",
      "  Min side  \n",
      "0    right  \n",
      "1     left  \n",
      "2     left  \n",
      "3     left  \n",
      "4    right  \n",
      "5.247744759516461\n"
     ]
    }
   ],
   "source": [
    "\n",
    "\n",
    "def half_division(func: Callable[[float], float], a: float, b: float,\n",
    "                  eps: float = 0.05) -> Tuple[pd.DataFrame, float]:\n",
    "    data = []  # Для хранения данных на каждой итерации\n",
    "    count = 0\n",
    "    while (b - a) / 2 > eps:\n",
    "        x = (b + a) / 2  # Вычисление середины интервала\n",
    "        x_left = x - eps / 2\n",
    "        x_right = x + eps / 2\n",
    "        value_func_left = func(x_left)\n",
    "        value_func_right = func(x_right)\n",
    "        count +=2\n",
    "        if value_func_left < value_func_right:\n",
    "            min_side = 'right'\n",
    "            b = x\n",
    "        else:\n",
    "            min_side = 'left'\n",
    "            a = x\n",
    "        \n",
    "        # Добавление данных об этой итерации в список\n",
    "        data.append([a, b, x_left, x, x_right, value_func_left, value_func_right, count, min_side])\n",
    "    \n",
    "    # Создание DataFrame из списка данных\n",
    "    columns = ['a', 'b', 'c-E/2', 'c', 'c+E/2', 'func(c-E/2)', 'func(c+E/2)', 'count', 'Min side']\n",
    "    df = pd.DataFrame(data, columns=columns)\n",
    "    return df, func((b+a)/2)\n",
    "\n",
    "df, value = half_division(func, a, b, eps)\n",
    "print(df)\n",
    "print(value)"
   ]
  },
  {
   "cell_type": "markdown",
   "metadata": {},
   "source": [
    "## Задание 6"
   ]
  },
  {
   "cell_type": "code",
   "execution_count": 79,
   "metadata": {},
   "outputs": [
    {
     "data": {
      "text/plain": [
       "5.245200442713884"
      ]
     },
     "execution_count": 79,
     "metadata": {},
     "output_type": "execute_result"
    }
   ],
   "source": [
    "def golden_section_search(func: Callable[[float], float], a: float, b: float,\n",
    "                  eps: float = 0.05) -> float:\n",
    "    \n",
    "    phi = (1 + np.sqrt(5)) / 2\n",
    "    resphi = 2 - phi\n",
    "    x1 = a + resphi * (b - a)\n",
    "    x2 = b - resphi * (b - a)\n",
    "    f1 = func(x1)\n",
    "    f2 = func(x2)\n",
    "    \n",
    "    while (b - a)/2 > eps:\n",
    "        if f1 < f2:\n",
    "            b = x2\n",
    "            x2 = x1\n",
    "            f2 = f1\n",
    "            x1 = a + resphi * (b - a)\n",
    "            f1 = func(x1)\n",
    "        else:\n",
    "            a = x1\n",
    "            x1 = x2\n",
    "            f1 = f2\n",
    "            x2 = b - resphi * (b - a)\n",
    "            f2 = func(x2)\n",
    "    \n",
    "    return func((b+a)/2)\n",
    "        \n",
    "    \n",
    "golden_section_search(func, a, b, eps)"
   ]
  },
  {
   "cell_type": "code",
   "execution_count": 80,
   "metadata": {},
   "outputs": [
    {
     "name": "stdout",
     "output_type": "stream",
     "text": [
      "          a         b        x1   func(x1)        x2  count  func(x2)\n",
      "0  0.500000  2.500000  1.263932   5.735632  1.736068      2  6.335203\n",
      "1  0.500000  1.736068  0.972136  10.896861  1.263932      3  5.735632\n",
      "2  0.972136  1.736068  1.263932   5.735632  1.444272      4  5.240985\n",
      "3  1.263932  1.736068  1.444272   5.240985  1.555728      5  5.447856\n",
      "4  1.263932  1.555728  1.375388   5.287249  1.444272      6  5.240985\n",
      "5  1.375388  1.555728  1.444272   5.240985  1.486844      7  5.282891\n",
      "6  1.375388  1.486844  1.417961   5.240932  1.444272      8  5.240985\n",
      "5.245200442713884\n"
     ]
    }
   ],
   "source": [
    "from typing import Callable\n",
    "import pandas as pd\n",
    "\n",
    "def golden_section_search(func: Callable[[float], float], a: float, b: float,\n",
    "                          eps: float = 0.05)-> Tuple[pd.DataFrame, float]:\n",
    "    count = 0\n",
    "    phi = (1 + np.sqrt(5)) / 2\n",
    "    resphi = 2 - phi\n",
    "    x1 = a + resphi * (b - a)\n",
    "    x2 = b - resphi * (b - a)\n",
    "    f1 = func(x1)\n",
    "    f2 = func(x2)\n",
    "    count += 2\n",
    "    \n",
    "    data = []  # Для хранения данных на каждой итерации\n",
    "    while (b - a) / 2 > eps:\n",
    "        row = [a, b, x1, func(x1), x2, count, func(x2)]  # Данные об этой итерации\n",
    "        data.append(row)\n",
    "        \n",
    "        if f1 < f2:\n",
    "            b = x2\n",
    "            x2 = x1\n",
    "            f2 = f1\n",
    "            x1 = a + resphi * (b - a)\n",
    "            f1 = func(x1)\n",
    "            count += 1\n",
    "        else:\n",
    "            a = x1\n",
    "            x1 = x2\n",
    "            f1 = f2\n",
    "            x2 = b - resphi * (b - a)\n",
    "            f2 = func(x2)\n",
    "            count += 1\n",
    "    \n",
    "    columns = ['a', 'b', 'x1', 'func(x1)', 'x2', 'count', 'func(x2)']\n",
    "    df = pd.DataFrame(data, columns=columns)\n",
    "    return df, func((a+b)/2)\n",
    "\n",
    "df, value = golden_section_search(func, a, b, eps)\n",
    "print(df)\n",
    "print(value)"
   ]
  },
  {
   "cell_type": "markdown",
   "metadata": {},
   "source": [
    "## Задание 10"
   ]
  },
  {
   "cell_type": "code",
   "execution_count": 81,
   "metadata": {},
   "outputs": [
    {
     "data": {
      "text/plain": [
       "5.23836337537727"
      ]
     },
     "execution_count": 81,
     "metadata": {},
     "output_type": "execute_result"
    }
   ],
   "source": [
    "def quadratic_interpolation(func: Callable[[float], float], A: float, B: float, eps: float = 0.05) -> float:\n",
    "\n",
    "    x0, y0 = (B+A)/2, func((B+A)/2)\n",
    "    while True:\n",
    "        x1, y1 = x0-eps/2, func(x0-eps/2)\n",
    "        x2, y2 = x0+eps/2, func(x0+eps/2)\n",
    "        \n",
    "            # Решение системы уравнений\n",
    "        A = np.array([[x1**2, x1, 1],\n",
    "                    [x2**2, x2, 1],\n",
    "                    [x0**2, x0, 1]])\n",
    "        B = np.array([y1, y2, y0])\n",
    "        coeffs = np.linalg.solve(A, B)\n",
    "\n",
    "        # Коэффициенты a, b, c\n",
    "        a, b, c = coeffs\n",
    "        x_new = -b/(2*a)\n",
    "        if (abs(x_new - x0) < eps):\n",
    "            break\n",
    "        else:\n",
    "            x0, y0 = x_new, func(x_new)\n",
    "    \n",
    "    return func(x_new)\n",
    "\n",
    "quadratic_interpolation(func, a, b, eps)\n"
   ]
  },
  {
   "cell_type": "code",
   "execution_count": 82,
   "metadata": {},
   "outputs": [
    {
     "name": "stdout",
     "output_type": "stream",
     "text": [
      "         x0        x1        x2          a          b          c     x_new  \\\n",
      "0  1.500000  1.475000  1.525000  12.488069 -35.581907  30.580260  1.424636   \n",
      "1  1.424636  1.399636  1.449636  15.278555 -43.733426  36.534012  1.431203   \n",
      "\n",
      "   count  func(x0)  \n",
      "0      3  5.305556  \n",
      "1      6  5.238968  \n",
      "5.23836337537727\n"
     ]
    }
   ],
   "source": [
    "def quadratic_interpolation(func: Callable[[float], float], A: float, B: float,\n",
    "                            eps: float = 0.05) -> Tuple[pd.DataFrame, float]:\n",
    "    \n",
    "    count = 0\n",
    "    data = []\n",
    "    x0, y0 = (B + A) / 2, func((B + A) / 2)\n",
    "    count += 1\n",
    "    \n",
    "    while True:\n",
    "        x1, x2 = x0 - eps / 2, x0 + eps / 2\n",
    "        y1, y2 = func(x1), func(x2)\n",
    "        count+=2\n",
    "        \n",
    "        # Решение системы уравнений\n",
    "        A_matrix = [[x1**2, x1, 1],\n",
    "                    [x2**2, x2, 1],\n",
    "                    [x0**2, x0, 1]]\n",
    "        B_matrix = [y1, y2, y0]\n",
    "        coeffs = np.linalg.solve(A_matrix, B_matrix)\n",
    "        a, b, c = coeffs\n",
    "        \n",
    "\n",
    "        \n",
    "        # Вычисление новой x координаты минимума\n",
    "        x_new = -b / (2 * a)\n",
    "        \n",
    "        # Сохранение промежуточных вычислений\n",
    "        row = [x0, x1, x2, a, b, c, x_new, count, func(x0)]  # Данные об этой итерации\n",
    "        data.append(row)\n",
    "        \n",
    "        if abs(x_new - x0) < eps:\n",
    "            break\n",
    "        else:\n",
    "            x0, y0 = x_new, func(x_new)\n",
    "            count+=1\n",
    "        \n",
    "    df = pd.DataFrame(data, columns=['x0', 'x1', 'x2', 'a', 'b', 'c', 'x_new', 'count', 'func(x0)'])\n",
    "    return df, func(x_new)\n",
    "\n",
    "df, value = quadratic_interpolation(func, a, b, eps)\n",
    "print(df)\n",
    "print(value)"
   ]
  }
 ],
 "metadata": {
  "kernelspec": {
   "display_name": "Python 3",
   "language": "python",
   "name": "python3"
  },
  "language_info": {
   "codemirror_mode": {
    "name": "ipython",
    "version": 3
   },
   "file_extension": ".py",
   "mimetype": "text/x-python",
   "name": "python",
   "nbconvert_exporter": "python",
   "pygments_lexer": "ipython3",
   "version": "3.11.0"
  }
 },
 "nbformat": 4,
 "nbformat_minor": 2
}
